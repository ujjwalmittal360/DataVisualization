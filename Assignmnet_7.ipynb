{
  "nbformat": 4,
  "nbformat_minor": 0,
  "metadata": {
    "colab": {
      "provenance": []
    },
    "kernelspec": {
      "name": "python3",
      "display_name": "Python 3"
    },
    "language_info": {
      "name": "python"
    }
  },
  "cells": [
    {
      "cell_type": "code",
      "execution_count": 2,
      "metadata": {
        "id": "CMThU4AVYR9c"
      },
      "outputs": [],
      "source": [
        "from sklearn.datasets import load_iris\n",
        "from sklearn.model_selection import train_test_split\n",
        "from sklearn.naive_bayes import GaussianNB\n",
        "from sklearn.metrics import accuracy_score\n"
      ]
    },
    {
      "cell_type": "code",
      "source": [
        "iris =load_iris()\n",
        "x=iris.data\n",
        "y=iris.target\n",
        "feature_names=iris.feature_names\n",
        "target_names=iris.target_names\n",
        "\n",
        "print(\"Feature Names\",feature_names)\n",
        "print(\"Target Names\",target_names)\n",
        "\n",
        "x_train,x_test,y_train,y_test=train_test_split(x,y,test_size=0.2,random_state=42)\n",
        "\n",
        "print(\"total samples\",len(x))\n",
        "print(\"train saples\",len(x_train))\n",
        "print(\"test samples\",len(x_test))"
      ],
      "metadata": {
        "colab": {
          "base_uri": "https://localhost:8080/"
        },
        "id": "bL5FioSaZE8U",
        "outputId": "caf9f85e-5828-4283-936e-1bbffe00e13c"
      },
      "execution_count": 4,
      "outputs": [
        {
          "output_type": "stream",
          "name": "stdout",
          "text": [
            "Feature Names ['sepal length (cm)', 'sepal width (cm)', 'petal length (cm)', 'petal width (cm)']\n",
            "Target Names ['setosa' 'versicolor' 'virginica']\n",
            "total samples 150\n",
            "train saples 120\n",
            "test samples 30\n"
          ]
        }
      ]
    },
    {
      "cell_type": "code",
      "source": [
        "model = GaussianNB()\n",
        "model.fit(x_train,y_train)\n",
        "\n",
        "y_pred=model.predict(x_test)\n",
        "\n",
        "accuracy=accuracy_score(y_test,y_pred)\n",
        "\n",
        "print(\"y test dataset\",y_test)\n",
        "print(\"y pred dataset\",y_pred)\n",
        "print(\"Accuracy Score\",accuracy*100)"
      ],
      "metadata": {
        "colab": {
          "base_uri": "https://localhost:8080/"
        },
        "id": "UGPOo-NzbBpG",
        "outputId": "e84408a8-6d79-41ad-9c05-e894863d3db4"
      },
      "execution_count": 6,
      "outputs": [
        {
          "output_type": "stream",
          "name": "stdout",
          "text": [
            "y test dataset [1 0 2 1 1 0 1 2 1 1 2 0 0 0 0 1 2 1 1 2 0 2 0 2 2 2 2 2 0 0]\n",
            "y pred dataset [1 0 2 1 1 0 1 2 1 1 2 0 0 0 0 1 2 1 1 2 0 2 0 2 2 2 2 2 0 0]\n",
            "Accuracy Score 100.0\n"
          ]
        }
      ]
    }
  ]
}